{
 "cells": [
  {
   "cell_type": "code",
   "execution_count": 42,
   "metadata": {},
   "outputs": [],
   "source": [
    "from pyprojroot import here\n",
    "import pandas as pd\n",
    "import numpy as np"
   ]
  },
  {
   "cell_type": "code",
   "execution_count": 81,
   "metadata": {},
   "outputs": [
    {
     "name": "stdout",
     "output_type": "stream",
     "text": [
      "Target shape: (35064, 1)\n",
      "df shape: (35064, 13)\n",
      "Index(['date', 'Visibility', 'DryBulbFarenheit', 'DryBulbCelsius',\n",
      "       'WetBulbFarenheit', 'DewPointFarenheit', 'DewPointCelsius',\n",
      "       'RelativeHumidity', 'WindSpeed', 'WindDirection', 'StationPressure',\n",
      "       'Altimeter', 'WetBulbCelsius'],\n",
      "      dtype='object')\n"
     ]
    }
   ],
   "source": [
    "# read the data\n",
    "weather_path = here(\"data/raw/WTH.csv\")\n",
    "df = pd.read_csv(weather_path)\n",
    "# convert 'date' column to datetime\n",
    "df['date'] = pd.to_datetime(df['date']) \n",
    "\n",
    "df_y = df[[\"WindSpeed\"]] # separate target to be able to perform MV input, Univariate output  \n",
    "print(\"Target shape:\", df_y.shape)\n",
    "\n",
    "# df = df.set_index(\"date\")\n",
    "print(\"df shape:\", df.shape)\n",
    "print(df.columns)"
   ]
  },
  {
   "cell_type": "code",
   "execution_count": 86,
   "metadata": {},
   "outputs": [
    {
     "name": "stdout",
     "output_type": "stream",
     "text": [
      "Numpy array shape: (35064, 12)\n"
     ]
    }
   ],
   "source": [
    "flag = \"test\"\n",
    "type_map = {'train': 0, 'val': 1, 'test': 2}\n",
    "set_type = type_map[flag]\n",
    "\n",
    "seq_len = 168\n",
    "label_len = 24\n",
    "pred_len = 12\n",
    "\n",
    "border1s = [0, 12 * 30 * 24 - seq_len,\n",
    "                    12 * 30 * 24 + 4 * 30 * 24 - seq_len]\n",
    "border2s = [12 * 30 * 24, 12 * 30 * 24 +\n",
    "            4 * 30 * 24, 12 * 30 * 24 + 8 * 30 * 24]\n",
    "border1 = border1s[set_type]\n",
    "border2 = border2s[set_type]\n",
    "\n",
    "cols_data = df.columns[1:] # remove date column\n",
    "df_data = df[cols_data] # take all the columns axcept date\n",
    "data = df_data.values # convert to numpy\n",
    "data_y = df_y.values\n",
    "print(\"Numpy array shape:\", data.shape)"
   ]
  },
  {
   "cell_type": "code",
   "execution_count": 87,
   "metadata": {},
   "outputs": [
    {
     "name": "stdout",
     "output_type": "stream",
     "text": [
      "df_stamp shape (3048, 1)\n"
     ]
    }
   ],
   "source": [
    "df_stamp = df[['date']][border1:border2]\n",
    "print(\"df_stamp shape\", df_stamp.shape)\n",
    "df_stamp['date'] = pd.to_datetime(df_stamp.date) # convert date to date_time"
   ]
  },
  {
   "cell_type": "code",
   "execution_count": 88,
   "metadata": {},
   "outputs": [
    {
     "name": "stdout",
     "output_type": "stream",
     "text": [
      "data_stamp shape: (3048, 4)\n"
     ]
    }
   ],
   "source": [
    "# First approach: compute 4 time related features and return a numpy array\n",
    "df_stamp['month'] = df_stamp.date.apply(lambda row: row.month, 1)\n",
    "df_stamp['day'] = df_stamp.date.apply(lambda row: row.day, 1)\n",
    "df_stamp['weekday'] = df_stamp.date.apply(\n",
    "    lambda row: row.weekday(), 1)\n",
    "df_stamp['hour'] = df_stamp.date.apply(lambda row: row.hour, 1)\n",
    "data_stamp = df_stamp.drop(columns=['date'])\n",
    "data_stamp = data_stamp.values # convert to numpy\n",
    "print(\"data_stamp shape:\", data_stamp.shape)"
   ]
  },
  {
   "cell_type": "code",
   "execution_count": 47,
   "metadata": {},
   "outputs": [
    {
     "name": "stdout",
     "output_type": "stream",
     "text": [
      "data_stamp shape: (4, 3048)\n",
      "data_stamp shape: (3048, 4)\n"
     ]
    }
   ],
   "source": [
    "# second approach: compute 4 time related features and return a numpy array\n",
    "from timefeatures import time_features\n",
    "freq='h'\n",
    "data_stamp = time_features(pd.to_datetime(df_stamp['date'].values), freq=freq)\n",
    "print(\"data_stamp shape:\", data_stamp.shape)\n",
    "data_stamp = data_stamp.transpose(1, 0) # switch axis\n",
    "print(\"data_stamp shape:\", data_stamp.shape)"
   ]
  },
  {
   "cell_type": "code",
   "execution_count": 89,
   "metadata": {},
   "outputs": [
    {
     "name": "stdout",
     "output_type": "stream",
     "text": [
      "data_x shape (3048, 12) data_y shape (3048, 1) data_stamp shape (3048, 4)\n"
     ]
    }
   ],
   "source": [
    "# cut to the size of the given flag: train, valid, or test\n",
    "data_x = data[border1:border2]\n",
    "data_y = data_y[border1:border2]\n",
    "data_stamp = data_stamp\n",
    "print('data_x shape', data_x.shape, 'data_y shape', data_y.shape, 'data_stamp shape', data_stamp.shape)"
   ]
  },
  {
   "cell_type": "code",
   "execution_count": 90,
   "metadata": {},
   "outputs": [
    {
     "name": "stdout",
     "output_type": "stream",
     "text": [
      "Total length that can be converted into a sequential data: 2869\n"
     ]
    }
   ],
   "source": [
    "length = len(data_x) - seq_len - pred_len + 1\n",
    "print(\"Total length that can be converted into a sequential data:\", length)\n",
    "def get_data(data_x, data_y, data_stamp, seq_len, label_len, pred_len):\n",
    "    for i in range(length):\n",
    "        s_begin = i\n",
    "        s_end = s_begin + seq_len\n",
    "        r_begin = s_end - label_len\n",
    "        r_end = r_begin + label_len + pred_len\n",
    "\n",
    "        seq_x = data_x[s_begin:s_end]\n",
    "        seq_y = data_y[r_begin:r_end]\n",
    "        seq_x_mark = data_stamp[s_begin:s_end]\n",
    "        seq_y_mark = data_stamp[r_begin:r_end]\n",
    "        if i == 0:\n",
    "            seq_x_full = seq_x[np.newaxis, :]\n",
    "            seq_y_full = seq_y[np.newaxis, :]\n",
    "            seq_x_mark_full = seq_x_mark[np.newaxis, :]\n",
    "            seq_y_mark_full = seq_y_mark[np.newaxis, :]\n",
    "        else:\n",
    "            seq_x_full = np.concatenate([seq_x_full, seq_x[np.newaxis, :]], axis=0)\n",
    "            seq_y_full = np.concatenate([seq_y_full, seq_y[np.newaxis, :]], axis=0)\n",
    "            seq_x_mark_full = np.concatenate([seq_x_mark_full, seq_x_mark[np.newaxis, :]], axis=0)\n",
    "            seq_y_mark_full = np.concatenate([seq_y_mark_full, seq_y_mark[np.newaxis, :]], axis=0)\n",
    "\n",
    "    return seq_x_full, seq_y_full, seq_x_mark_full, seq_y_mark_full"
   ]
  },
  {
   "cell_type": "code",
   "execution_count": 92,
   "metadata": {},
   "outputs": [],
   "source": [
    "seq_x, seq_y, seq_x_mark, seq_y_mark = get_data(data_x, data_y, data_stamp, seq_len, label_len, pred_len)"
   ]
  },
  {
   "cell_type": "code",
   "execution_count": 94,
   "metadata": {},
   "outputs": [
    {
     "name": "stdout",
     "output_type": "stream",
     "text": [
      "seq_x shape (2869, 168, 12) seq_y shape (2869, 36, 1) seq_x_mark shape (2869, 168, 4) seq_y_mark shape (2869, 36, 4)\n"
     ]
    }
   ],
   "source": [
    "print('seq_x shape', seq_x.shape, 'seq_y shape', seq_y.shape, 'seq_x_mark shape', seq_x_mark.shape, 'seq_y_mark shape', seq_y_mark.shape)"
   ]
  }
 ],
 "metadata": {
  "kernelspec": {
   "display_name": "pytorch_env",
   "language": "python",
   "name": "python3"
  },
  "language_info": {
   "codemirror_mode": {
    "name": "ipython",
    "version": 3
   },
   "file_extension": ".py",
   "mimetype": "text/x-python",
   "name": "python",
   "nbconvert_exporter": "python",
   "pygments_lexer": "ipython3",
   "version": "3.10.10"
  },
  "orig_nbformat": 4
 },
 "nbformat": 4,
 "nbformat_minor": 2
}
